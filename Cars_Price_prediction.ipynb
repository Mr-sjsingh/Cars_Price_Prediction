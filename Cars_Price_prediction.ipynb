{
 "cells": [
  {
   "cell_type": "markdown",
   "id": "344d0d8a",
   "metadata": {},
   "source": [
    "<h1> Cars Price Prediction Case Study by Simranjeet Singh</h1>"
   ]
  },
  {
   "cell_type": "markdown",
   "id": "843959a5",
   "metadata": {},
   "source": [
    "<h3>Problem: Build a model to Predict prices of Second Hand Cars</h3>"
   ]
  },
  {
   "cell_type": "markdown",
   "id": "53f13901",
   "metadata": {},
   "source": [
    "<h2>Variables:<br>\n",
    "1:dateCrawled - Date when the ad was first crawled, all field values are taken from this date. <br>\t\n",
    "2:name - Name of the car<br>\t\n",
    "3:seller -Type of seller( Private or commercial ) <br>\n",
    "4:offerType -Whether the car is on offer or the buyer has Requested for an offer. <br>\n",
    "5:price - Price on the ad to sell the car.<br>\t\n",
    "6:abtest - two version of the ad.<br>\n",
    "7:vehicleType - Type of vehicle.<br>\n",
    "8:yearOfRegistration - Year in which it was First Registered<br>\n",
    "9:gearbox - Type of Gearbox ( Manual or Automatic ) <br>\n",
    "10:powerPS - Power of the Car(HP)<br>\n",
    "11:model - Model Type of the Car.<br>\n",
    "12:kilometer - Number of Kilometer car has Travelled.<br>\n",
    "13:monthOfRegistration - Month of Registration of the car. <br>\n",
    "14:fuelType - Type of fuel<br>\n",
    "15:brand - Make of the Car<br>\n",
    "16:notRepairedDamage - Status of repair of Damage( if yes damage has not been recitified, if No damages have been taken care of.<br>\n",
    "17:dateCreated - Date at which ad was created <br>\n",
    "18:postalCode -  Postal Code of the Seller<br>\n",
    "19:lastSeen - When the crawler Saw this ad last online.<br>\n"
   ]
  },
  {
   "cell_type": "code",
   "execution_count": 1,
   "id": "9760e37f",
   "metadata": {},
   "outputs": [],
   "source": [
    "#Importing the libraries\n",
    "import pandas as pd\n",
    "import numpy as np\n",
    "import seaborn as sns\n",
    "from matplotlib import pyplot as plt\n",
    "from sklearn.model_selection import train_test_split\n",
    "from sklearn.linear_model import LinearRegression\n",
    "from sklearn.ensemble import RandomForestRegressor\n",
    "from sklearn.metrics import mean_squared_error,mean_absolute_error,r2_score\n"
   ]
  },
  {
   "cell_type": "code",
   "execution_count": 2,
   "id": "32950d46",
   "metadata": {},
   "outputs": [],
   "source": [
    "#loading the Dataset\n",
    "cars=pd.read_csv(\"cars_sampled.csv\")\n",
    "data=cars.copy(deep=True)"
   ]
  },
  {
   "cell_type": "code",
   "execution_count": 3,
   "id": "23b9e17e",
   "metadata": {},
   "outputs": [
    {
     "name": "stdout",
     "output_type": "stream",
     "text": [
      "<class 'pandas.core.frame.DataFrame'>\n",
      "RangeIndex: 50001 entries, 0 to 50000\n",
      "Data columns (total 19 columns):\n",
      " #   Column               Non-Null Count  Dtype \n",
      "---  ------               --------------  ----- \n",
      " 0   dateCrawled          50001 non-null  object\n",
      " 1   name                 50001 non-null  object\n",
      " 2   seller               50001 non-null  object\n",
      " 3   offerType            50001 non-null  object\n",
      " 4   price                50001 non-null  int64 \n",
      " 5   abtest               50001 non-null  object\n",
      " 6   vehicleType          44813 non-null  object\n",
      " 7   yearOfRegistration   50001 non-null  int64 \n",
      " 8   gearbox              47177 non-null  object\n",
      " 9   powerPS              50001 non-null  int64 \n",
      " 10  model                47243 non-null  object\n",
      " 11  kilometer            50001 non-null  int64 \n",
      " 12  monthOfRegistration  50001 non-null  int64 \n",
      " 13  fuelType             45498 non-null  object\n",
      " 14  brand                50001 non-null  object\n",
      " 15  notRepairedDamage    40285 non-null  object\n",
      " 16  dateCreated          50001 non-null  object\n",
      " 17  postalCode           50001 non-null  int64 \n",
      " 18  lastSeen             50001 non-null  object\n",
      "dtypes: int64(6), object(13)\n",
      "memory usage: 7.2+ MB\n"
     ]
    }
   ],
   "source": [
    "#Summary of the Data\n",
    "data.info()"
   ]
  },
  {
   "cell_type": "code",
   "execution_count": 4,
   "id": "0af59f0f",
   "metadata": {},
   "outputs": [
    {
     "name": "stdout",
     "output_type": "stream",
     "text": [
      "Index(['seller', 'offerType', 'price', 'abtest', 'vehicleType',\n",
      "       'yearOfRegistration', 'gearbox', 'powerPS', 'model', 'kilometer',\n",
      "       'monthOfRegistration', 'fuelType', 'brand', 'notRepairedDamage'],\n",
      "      dtype='object')\n"
     ]
    }
   ],
   "source": [
    "#Dropping the Unwanted Columns\n",
    "data=data.drop(columns=['dateCrawled','name','dateCreated','postalCode','lastSeen'],axis=1)\n",
    "print(data.columns)"
   ]
  },
  {
   "cell_type": "code",
   "execution_count": 10,
   "id": "cf536d05",
   "metadata": {},
   "outputs": [
    {
     "name": "stdout",
     "output_type": "stream",
     "text": [
      "seller                  0.00\n",
      "offerType               0.00\n",
      "price                   0.00\n",
      "abtest                  0.00\n",
      "vehicleType            10.38\n",
      "yearOfRegistration      0.00\n",
      "gearbox                 5.65\n",
      "powerPS                 0.00\n",
      "model                   5.52\n",
      "kilometer               0.00\n",
      "monthOfRegistration     0.00\n",
      "fuelType                9.01\n",
      "brand                   0.00\n",
      "notRepairedDamage      19.43\n",
      "dtype: float64\n"
     ]
    }
   ],
   "source": [
    "#Checking Columnwise Null Percentage\n",
    "null_percentage=data.isnull().sum()\n",
    "null_percentage=(null_percentage/len(data))*100\n",
    "null_percentage=round(null_percentage,2)\n",
    "print(null_percentage)"
   ]
  },
  {
   "cell_type": "code",
   "execution_count": 16,
   "id": "741aa357",
   "metadata": {},
   "outputs": [
    {
     "name": "stdout",
     "output_type": "stream",
     "text": [
      "vehicleType          10.38\n",
      "gearbox               5.65\n",
      "model                 5.52\n",
      "fuelType              9.01\n",
      "notRepairedDamage    19.43\n",
      "dtype: float64\n"
     ]
    }
   ],
   "source": [
    "#Getting columns with null percentage > 5\n",
    "print(null_percentage.loc[null_percentage>5])"
   ]
  },
  {
   "cell_type": "code",
   "execution_count": 22,
   "id": "93bf9c06",
   "metadata": {},
   "outputs": [],
   "source": [
    "#Dropping Null Values from by selecting columns where null_percentage > 5\n",
    "data.dropna(subset=[\"vehicleType\",\"gearbox\",\"model\",\"fuelType\",\"notRepairedDamage\"],inplace=True)"
   ]
  },
  {
   "cell_type": "code",
   "execution_count": 67,
   "id": "84a10a9e",
   "metadata": {},
   "outputs": [
    {
     "name": "stdout",
     "output_type": "stream",
     "text": [
      "35107\n",
      "Percentage of rows Retained 70.21259574808504\n"
     ]
    }
   ],
   "source": [
    "#checking percentage of rows retained\n",
    "print(len(data))\n",
    "print(\"Percentage of rows Retained\",(len(data)/len(cars))*100)"
   ]
  },
  {
   "cell_type": "markdown",
   "id": "7c253ce7",
   "metadata": {},
   "source": [
    "<h2>Checkpoint 1: 70% of data is retained after dropping the null values</h2>"
   ]
  },
  {
   "cell_type": "markdown",
   "id": "4f71c1ff",
   "metadata": {},
   "source": [
    "<h3> Univariate Analysis</h3>"
   ]
  },
  {
   "cell_type": "code",
   "execution_count": 25,
   "id": "9fea7602",
   "metadata": {},
   "outputs": [],
   "source": [
    "##### Function to perform Univariate Analysis\n",
    "def Univariate(self):\n",
    "    if data[self].dtype==\"int\":\n",
    "        print(data[self].value_counts().sort_index())\n",
    "        print(data[self].unique())\n",
    "        print(data[self].describe())\n",
    "        \n",
    "    elif data[self].dtype==\"float\":\n",
    "        print(data[self].value_counts().sort_index())\n",
    "        print(data[self].unique())\n",
    "        print(data[self].describe())\n",
    "       \n",
    "    else:\n",
    "        print(data[self].value_counts())\n",
    "        print(data[self].unique())\n",
    "        print(data[self].describe())\n",
    "       "
   ]
  },
  {
   "cell_type": "code",
   "execution_count": null,
   "id": "3e004422",
   "metadata": {},
   "outputs": [],
   "source": [
    "#Analyzing Price\n",
    "Univariate(\"price\")\n",
    "sns.boxplot(y=data[\"price\"])\n",
    "plt.ticklabel_format(style='plain',axis=\"y\")\n",
    "plt.show()\n",
    "sns.distplot(data[\"price\"])\n",
    "plt.ticklabel_format(style='plain')\n",
    "plt.show()"
   ]
  },
  {
   "cell_type": "markdown",
   "id": "5a149780",
   "metadata": {},
   "source": [
    "<h4>Price is more focused towards 0 and there are outliers so we need to set up a working range</h4>"
   ]
  },
  {
   "cell_type": "code",
   "execution_count": 89,
   "id": "6950987c",
   "metadata": {},
   "outputs": [
    {
     "data": {
      "text/plain": [
       "0"
      ]
     },
     "execution_count": 89,
     "metadata": {},
     "output_type": "execute_result"
    }
   ],
   "source": [
    "sum(data[\"price\"]<100)"
   ]
  },
  {
   "cell_type": "code",
   "execution_count": 90,
   "id": "dc02842f",
   "metadata": {},
   "outputs": [
    {
     "data": {
      "text/plain": [
       "0"
      ]
     },
     "execution_count": 90,
     "metadata": {},
     "output_type": "execute_result"
    }
   ],
   "source": [
    "sum(data[\"price\"]>150000)"
   ]
  },
  {
   "cell_type": "markdown",
   "id": "40a09020",
   "metadata": {},
   "source": [
    "<b>Working Range of Price is `$`100 - `$`150000</b>"
   ]
  },
  {
   "cell_type": "code",
   "execution_count": null,
   "id": "1c3a26be",
   "metadata": {},
   "outputs": [],
   "source": [
    "#Setting working Range of price\n",
    "data=data[(data.price>100)&(data.price<150000)]"
   ]
  },
  {
   "cell_type": "markdown",
   "id": "c2798735",
   "metadata": {},
   "source": [
    "<b>~540 rows dropped</b>"
   ]
  },
  {
   "cell_type": "code",
   "execution_count": 30,
   "id": "c28cc98e",
   "metadata": {},
   "outputs": [
    {
     "name": "stdout",
     "output_type": "stream",
     "text": [
      "private       35106\n",
      "commercial        1\n",
      "Name: seller, dtype: int64\n",
      "['private' 'commercial']\n",
      "count       35107\n",
      "unique          2\n",
      "top       private\n",
      "freq        35106\n",
      "Name: seller, dtype: object\n"
     ]
    },
    {
     "name": "stderr",
     "output_type": "stream",
     "text": [
      "C:\\Users\\sjsin\\anaconda3\\lib\\site-packages\\seaborn\\_decorators.py:36: FutureWarning: Pass the following variable as a keyword arg: x. From version 0.12, the only valid positional argument will be `data`, and passing other arguments without an explicit keyword will result in an error or misinterpretation.\n",
      "  warnings.warn(\n"
     ]
    },
    {
     "data": {
      "image/png": "[encoded data removed]",
      "text/plain": [
       "<Figure size 432x288 with 1 Axes>"
      ]
     },
     "metadata": {
      "needs_background": "light"
     },
     "output_type": "display_data"
    }
   ],
   "source": [
    "#Analyzing Seller\n",
    "Univariate(\"seller\")\n",
    "sns.countplot(data['seller'])\n",
    "plt.show()"
   ]
  },
  {
   "cell_type": "markdown",
   "id": "cf94fc53",
   "metadata": {},
   "source": [
    "<h4> 99.9% sellers are private so Seller seems to be insignificant</h4>"
   ]
  },
  {
   "cell_type": "code",
   "execution_count": 31,
   "id": "58a047ae",
   "metadata": {},
   "outputs": [
    {
     "name": "stdout",
     "output_type": "stream",
     "text": [
      "offer      35106\n",
      "request        1\n",
      "Name: offerType, dtype: int64\n",
      "['offer' 'request']\n",
      "count     35107\n",
      "unique        2\n",
      "top       offer\n",
      "freq      35106\n",
      "Name: offerType, dtype: object\n"
     ]
    },
    {
     "name": "stderr",
     "output_type": "stream",
     "text": [
      "C:\\Users\\sjsin\\anaconda3\\lib\\site-packages\\seaborn\\_decorators.py:36: FutureWarning: Pass the following variable as a keyword arg: x. From version 0.12, the only valid positional argument will be `data`, and passing other arguments without an explicit keyword will result in an error or misinterpretation.\n",
      "  warnings.warn(\n"
     ]
    },
    {
     "data": {
      "text/plain": [
       "<AxesSubplot:xlabel='offerType', ylabel='count'>"
      ]
     },
     "execution_count": 31,
     "metadata": {},
     "output_type": "execute_result"
    },
    {
     "data": {
      "image/png": "[encoded data removed]",
      "text/plain": [
       "<Figure size 432x288 with 1 Axes>"
      ]
     },
     "metadata": {
      "needs_background": "light"
     },
     "output_type": "display_data"
    }
   ],
   "source": [
    "#Analyzing OfferType\n",
    "Univariate(\"offerType\")\n",
    "sns.countplot(data[\"offerType\"])"
   ]
  },
  {
   "cell_type": "markdown",
   "id": "729f4759",
   "metadata": {},
   "source": [
    "<h4>99.9% OfferType are offer so Offertype seems to be insignificant</h4>"
   ]
  },
  {
   "cell_type": "code",
   "execution_count": 62,
   "id": "b6bfa4a9",
   "metadata": {},
   "outputs": [
    {
     "name": "stdout",
     "output_type": "stream",
     "text": [
      "test       18161\n",
      "control    16946\n",
      "Name: abtest, dtype: int64\n",
      "['control' 'test']\n",
      "count     35107\n",
      "unique        2\n",
      "top        test\n",
      "freq      18161\n",
      "Name: abtest, dtype: object\n"
     ]
    },
    {
     "name": "stderr",
     "output_type": "stream",
     "text": [
      "C:\\Users\\sjsin\\anaconda3\\lib\\site-packages\\seaborn\\_decorators.py:36: FutureWarning: Pass the following variable as a keyword arg: x. From version 0.12, the only valid positional argument will be `data`, and passing other arguments without an explicit keyword will result in an error or misinterpretation.\n",
      "  warnings.warn(\n"
     ]
    },
    {
     "data": {
      "image/png": "[encoded data removed]",
      "text/plain": [
       "<Figure size 432x288 with 1 Axes>"
      ]
     },
     "metadata": {
      "needs_background": "light"
     },
     "output_type": "display_data"
    }
   ],
   "source": [
    "#Analyzing ABtest\n",
    "Univariate(\"abtest\")\n",
    "sns.countplot(data[\"abtest\"])\n",
    "plt.show()"
   ]
  },
  {
   "cell_type": "markdown",
   "id": "ce37c7bd",
   "metadata": {},
   "source": [
    "Both Control and Test are almost equally Distributed  so ABtest might be Significant."
   ]
  },
  {
   "cell_type": "code",
   "execution_count": 84,
   "id": "815768bc",
   "metadata": {},
   "outputs": [
    {
     "name": "stdout",
     "output_type": "stream",
     "text": [
      "limousine        10378\n",
      "small car         7994\n",
      "station wagon     7137\n",
      "bus               3315\n",
      "cabrio            2443\n",
      "coupe             1981\n",
      "suv               1628\n",
      "others             231\n",
      "Name: vehicleType, dtype: int64\n",
      "['suv' 'small car' 'limousine' 'coupe' 'station wagon' 'cabrio' 'bus'\n",
      " 'others']\n",
      "count         35107\n",
      "unique            8\n",
      "top       limousine\n",
      "freq          10378\n",
      "Name: vehicleType, dtype: object\n"
     ]
    },
    {
     "data": {
      "image/png": "[encoded data removed]",
      "text/plain": [
       "<Figure size 432x288 with 1 Axes>"
      ]
     },
     "metadata": {
      "needs_background": "light"
     },
     "output_type": "display_data"
    }
   ],
   "source": [
    "#Analyzing VehicleType\n",
    "Univariate(\"vehicleType\")\n",
    "sns.countplot(y=data[\"vehicleType\"])\n",
    "plt.show()\n"
   ]
  },
  {
   "cell_type": "markdown",
   "id": "ea3090ea",
   "metadata": {},
   "source": [
    "<b>Vehicle Type is distributed among all options, limousine is the most listed followed by small car and station wagon, hence vehicle Type might be Significant.</b>"
   ]
  },
  {
   "cell_type": "code",
   "execution_count": 69,
   "id": "8ebd5dc0",
   "metadata": {},
   "outputs": [
    {
     "name": "stdout",
     "output_type": "stream",
     "text": [
      "manual       26895\n",
      "automatic     8212\n",
      "Name: gearbox, dtype: int64\n",
      "['manual' 'automatic']\n",
      "count      35107\n",
      "unique         2\n",
      "top       manual\n",
      "freq       26895\n",
      "Name: gearbox, dtype: object\n"
     ]
    },
    {
     "name": "stderr",
     "output_type": "stream",
     "text": [
      "C:\\Users\\sjsin\\anaconda3\\lib\\site-packages\\seaborn\\_decorators.py:36: FutureWarning: Pass the following variable as a keyword arg: x. From version 0.12, the only valid positional argument will be `data`, and passing other arguments without an explicit keyword will result in an error or misinterpretation.\n",
      "  warnings.warn(\n"
     ]
    },
    {
     "data": {
      "text/plain": [
       "<AxesSubplot:xlabel='gearbox', ylabel='count'>"
      ]
     },
     "execution_count": 69,
     "metadata": {},
     "output_type": "execute_result"
    },
    {
     "data": {
      "image/png": "[encoded data removed]",
      "text/plain": [
       "<Figure size 432x288 with 1 Axes>"
      ]
     },
     "metadata": {
      "needs_background": "light"
     },
     "output_type": "display_data"
    }
   ],
   "source": [
    "#Analyzing Gearbox\n",
    "Univariate(\"gearbox\")\n",
    "sns.countplot(data[\"gearbox\"])"
   ]
  },
  {
   "cell_type": "markdown",
   "id": "e14dbddf",
   "metadata": {},
   "source": [
    "<b>Both Manual and Automatic gearbox have significant number of values so gearbox might be significant</b>"
   ]
  },
  {
   "cell_type": "code",
   "execution_count": null,
   "id": "d9d412c9",
   "metadata": {},
   "outputs": [],
   "source": []
  }
 ],
 "metadata": {
  "kernelspec": {
   "display_name": "Python 3",
   "language": "python",
   "name": "python3"
  },
  "language_info": {
   "codemirror_mode": {
    "name": "ipython",
    "version": 3
   },
   "file_extension": ".py",
   "mimetype": "text/x-python",
   "name": "python",
   "nbconvert_exporter": "python",
   "pygments_lexer": "ipython3",
   "version": "3.8.8"
  }
 },
 "nbformat": 4,
 "nbformat_minor": 5
}
